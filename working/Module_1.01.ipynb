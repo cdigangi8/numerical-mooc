{
 "cells": [
  {
   "cell_type": "code",
   "execution_count": 1,
   "metadata": {
    "collapsed": false
   },
   "outputs": [
    {
     "data": {
      "text/html": [
       "\n",
       "        <iframe\n",
       "            width=\"400\"\n",
       "            height=\"300\"\n",
       "            src=\"https://www.youtube.com/embed/ysdU4mnRYdM\"\n",
       "            frameborder=\"0\"\n",
       "            allowfullscreen\n",
       "        ></iframe>\n",
       "        "
      ],
      "text/plain": [
       "<IPython.lib.display.YouTubeVideo at 0x104b99f98>"
      ]
     },
     "execution_count": 1,
     "metadata": {},
     "output_type": "execute_result"
    }
   ],
   "source": [
    "from IPython.display import YouTubeVideo\n",
    "YouTubeVideo('ysdU4mnRYdM')"
   ]
  },
  {
   "cell_type": "markdown",
   "metadata": {},
   "source": [
    "The physics of Phugoids\n",
    "\n",
    "$$L=C_LS \\times \\frac{1}{2} \\rho \\nu^2$$\n",
    "$$D=C_DS\\times\\frac{1}{2}\\rho\\nu^2$$\n",
    "$$ L=W\\cos{\\gamma} \\ \\ \\ D=W\\sin{\\gamma}$$ "
   ]
  },
  {
   "cell_type": "markdown",
   "metadata": {},
   "source": [
    "Ideal Case of Zero Drag\n",
    "\n",
    "$W=C_LS\\times\\frac{1}{2}\\rho\\nu_t^2 \\\\$\n",
    "\n",
    "Where $\\nu_t$ is the flight speed\n",
    "\n",
    "Express W in terms of velocity\n",
    "\n",
    "$\\frac{L}{W}=\\frac{\\nu^2}{\\nu_t^2}$\n",
    "\n",
    "Balance of forces:\n",
    "\n",
    "$$L-W\\cos{\\theta}=\\frac{W}{g}\\frac{\\nu^2}{R} $$\n",
    "Where R is radius of curvature and g is accleration of gravity.\n",
    "Centrifugal acceleration is: $\\frac{\\nu^2}{R}$\n",
    "So rearranging yeilds:\n",
    "$$\\frac{\\nu^2}{\\nu_t^2}-\\cos{\\theta}=\\frac{\\nu^2}{gR}$$\n",
    "\n",
    "Since we assumed no friction\n",
    "\n",
    "$$\\frac{1}{2}\\nu^2-gz=constant$$\n",
    "\n",
    "Choose reference horizontal to remove constant\n",
    "\n",
    "$$\\frac{z}{z_t}-\\cos{\\theta}=\\frac{2z}{R}$$\n",
    "\n",
    "Let Ds represent small arc-length of trajectory:\n",
    "\n",
    "$$\\frac{1}{R}=\\frac{d\\theta}{ds} \\ \\ and \\ \\ \\sin{\\theta}=-\\frac{dz}{ds}$$\n",
    "\n",
    "Using the chain rule:\n",
    "\n",
    "$$\\frac{1}{R}=\\frac{d\\theta}{ds}=\\frac{dz}{ds}\\frac{d\\theta}{dz}=-\\sin{\\theta}\\frac{d\\theta}{dz}$$\n",
    "\n",
    "Multiple the phugoid equation by $\\frac{1}{2\\sqrt{z}}$\n",
    "\n",
    "Substitute for 1/R\n",
    "\n",
    "$$\\frac{\\sqrt{z}}{2z_t}=\\frac{\\cos{\\theta}}{2\\sqrt{z}}-\\sqrt{z}\\sin{\\theta}\\frac{d\\theta}{dz}$$\n",
    "\n",
    "The right hand side is exact derivative:\n",
    "\n",
    "$$\\frac{d}{dz}(\\sqrt{z}\\cos{\\theta}=\\frac{\\sqrt{z}}{2z_t}$$\n",
    "\n",
    "Integrating thisequation yeilds an arbitrary constant chosen as $C\\sqrt{z_t}$ which after dividing by $\\sqrt{z}$ gives:\n",
    "\n",
    "$$\\cos{\\theta}=\\frac{1}{3}\\frac{z}{z_t}+C\\sqrt{\\frac{z_t^3}{z^3}}$$\n",
    "\n",
    "Taking the derivative of both sides and applying relations:\n",
    "\n",
    "$$\\frac{z_t}{R}=\\frac{1}{3}-\\frac{C}{2}\\sqrt{\\frac{z_t^3}{z^3}}$$"
   ]
  },
  {
   "cell_type": "code",
   "execution_count": 5,
   "metadata": {
    "collapsed": false
   },
   "outputs": [
    {
     "name": "stderr",
     "output_type": "stream",
     "text": [
      "ERROR: File `'phugoid.py'` not found.\n"
     ]
    }
   ],
   "source": [
    "%run phugoid.py\n",
    "%matplotlib inline"
   ]
  },
  {
   "cell_type": "code",
   "execution_count": null,
   "metadata": {
    "collapsed": true
   },
   "outputs": [],
   "source": []
  }
 ],
 "metadata": {
  "kernelspec": {
   "display_name": "Python 3",
   "language": "python",
   "name": "python3"
  },
  "language_info": {
   "codemirror_mode": {
    "name": "ipython",
    "version": 3
   },
   "file_extension": ".py",
   "mimetype": "text/x-python",
   "name": "python",
   "nbconvert_exporter": "python",
   "pygments_lexer": "ipython3",
   "version": "3.4.3"
  }
 },
 "nbformat": 4,
 "nbformat_minor": 0
}

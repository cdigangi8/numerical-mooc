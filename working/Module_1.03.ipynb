{
 "cells": [
  {
   "cell_type": "markdown",
   "metadata": {},
   "source": [
    "Full Phugoid Model!\n",
    "\n",
    "Take away the ideal state of no drag\n",
    "\n",
    "Refer to figure 1: L is lift, W is weight, D is drag, and $\\theta$ is positive angle of trajectory\n",
    "\n",
    "If forces are NOT in equilibrium:\n",
    "$$m\\frac{dv}{dt} = -W\\sin{\\theta} - D$$\n",
    "$$mv\\frac{d\\theta}{dt} = -W\\cos{\\theta} + L$$\n",
    "\n",
    "We will make these equations more pleasing using prime ' to denote time derivatives and dive through by weight\n",
    "$$\\frac{v'}{g} = -\\sin{\\theta} - \\frac{D}{W}$$\n",
    "$$\\frac{v}{g}\\theta ' = -\\cos{\\theta} + \\frac{L}{W}$$\n",
    "\n",
    "Ratio of lift to weight known from the trim conditions (Lesson 1) - $\\frac{L}{W} = \\frac{v^2}{v_t^2}$-- and from definition of lift and drag\n",
    "$$L = C_LS\\times \\frac{1}{2} \\rho \\nu^2$$\n",
    "$$D = C_DS\\times \\frac{1}{2} \\rho \\nu^2$$\n",
    "\n",
    "We see that $\\frac{L}{D} = \\frac{C_L}{C_D}$. The system of equations can be re-written:\n",
    "$$v' = -g\\sin{\\theta} - \\frac{C_D}{C_L} \\frac{g}{v_t^2} v^2$$\n",
    "$$v' = -\\frac{g}{v} \\cos{\\theta} + \\frac{g}{v_t^2} v^2$$\n"
   ]
  },
  {
   "cell_type": "markdown",
   "metadata": {},
   "source": [
    "The Initial Value Problem\n",
    "\n",
    "$$x'(t) = v\\cos{\\theta}$$\n",
    "$$y'(t) = v\\sin{\\theta}$$\n",
    "\n",
    "Augmenting original two differential equations by the equations above, we have a system of four first-order differential equations to solve.\n",
    "\n",
    "$$v(0)=v_0 \\ \\ \\ and \\ \\ \\ \\theta(0) = \\theta_0$$\n",
    "$$x(0)=x_0 \\ \\ \\ and \\ \\ \\ y(0) = y_0$$"
   ]
  },
  {
   "cell_type": "markdown",
   "metadata": {},
   "source": [
    "Solve With Euler's Method\n",
    "\n",
    "This replaces each time derivative with the approximatino of the form:\n",
    "$$v'(t) \\approx \\frac{v^{n+1}-v^n}{\\Delta t} $$\n",
    "\n",
    "n represents nth value in time iteratinos\n",
    "\n",
    "Therefore first differential is:\n",
    "$$\\frac{v^{n+1}-v^n}{\\Delta t} = -g\\sin{\\theta}^n - \\frac{C_D}{C_L} \\frac{g}{v_t^2} (v^n)^2 $$\n",
    "\n",
    "So for each time iteration $t^n$ we evaluate all known data of our system and obtain state $t^{n+1}$, the next time step.\n",
    "\n",
    "Full system of equations discretized is:\n",
    "$$v^{n+1} = v^n + \\Delta t \\left( -g \\sin{\\theta}^n - \\frac{C_D}{C_L} \\frac{g}{v_t^2} (v^n)^2 \\right) $$"
   ]
  },
  {
   "cell_type": "code",
   "execution_count": null,
   "metadata": {
    "collapsed": true
   },
   "outputs": [],
   "source": []
  }
 ],
 "metadata": {
  "kernelspec": {
   "display_name": "Python 3",
   "language": "python",
   "name": "python3"
  },
  "language_info": {
   "codemirror_mode": {
    "name": "ipython",
    "version": 3
   },
   "file_extension": ".py",
   "mimetype": "text/x-python",
   "name": "python",
   "nbconvert_exporter": "python",
   "pygments_lexer": "ipython3",
   "version": "3.4.3"
  }
 },
 "nbformat": 4,
 "nbformat_minor": 0
}
